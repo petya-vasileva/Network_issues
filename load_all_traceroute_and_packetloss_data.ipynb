{
 "cells": [
  {
   "cell_type": "code",
   "execution_count": 1,
   "metadata": {},
   "outputs": [],
   "source": [
    "import pandas as pd\n",
    "import itertools\n",
    "from elasticsearch import Elasticsearch\n",
    "from elasticsearch.helpers import scan\n",
    "from concurrent.futures import ThreadPoolExecutor, ProcessPoolExecutor\n",
    "from multiprocessing import Manager\n",
    "\n",
    "import datetime as dt\n",
    "import pickle\n",
    "\n",
    "import pandas as pd\n",
    "import matplotlib.pyplot as plt\n",
    "import numpy as np\n",
    "\n",
    "import utils.helpers as hp\n",
    "from utils.helpers import timer \n",
    "import model.queries as qrs\n",
    "\n",
    "import os.path\n",
    "from os import path\n",
    "\n",
    "import logging\n",
    "import os\n",
    "\n",
    "logging.basicConfig(format = '%(asctime)s %(message)s',\n",
    "                    datefmt = '%m/%d/%Y %I:%M:%S %p',\n",
    "                    filename = '/data/petya/progress.log',\n",
    "                    level=logging.INFO)\n",
    "\n",
    "\n",
    "import pyarrow as pa\n",
    "import pyarrow.parquet as pq\n",
    "\n",
    "def write2Parquet(df, filename):\n",
    "    table = pa.Table.from_pandas(df, preserve_index=True)\n",
    "    pq.write_table(table, filename)\n",
    "\n",
    "def saveData(df, file_name):\n",
    "    with open(f\"/data/petya/{file_name}.pkl\",\"wb\") as f:\n",
    "        pickle.dump(df,f)\n",
    "        \n",
    "def loadData(df):\n",
    "    with open(f'/data/petya/{df}.pkl', 'rb') as pickle_file:\n",
    "        return pickle.load(pickle_file)"
   ]
  },
  {
   "cell_type": "code",
   "execution_count": 35,
   "metadata": {},
   "outputs": [],
   "source": [
    "pip install ipwhois"
   ]
  },
  {
   "cell_type": "code",
   "execution_count": 34,
   "metadata": {},
   "outputs": [],
   "source": [
    "pip install plotly"
   ]
  },
  {
   "cell_type": "code",
   "execution_count": 33,
   "metadata": {},
   "outputs": [],
   "source": [
    "pip install pyarrow"
   ]
  },
  {
   "cell_type": "code",
   "execution_count": 2,
   "metadata": {},
   "outputs": [],
   "source": [
    "def scan_gen(scan):\n",
    "    while True:\n",
    "        try:\n",
    "            yield next(scan)['_source']\n",
    "        except:\n",
    "            break\n",
    "\n",
    "def ps_trace_hashes(dt,src, dest,include=[\"timestamp\",\"route-sha1\",\"hops\",\"destination_reached\",\"src\",\"dest\",\"looping\",\"path_complete\"]):\n",
    "    query = {\n",
    "      \"query\" : {\n",
    "        \"bool\" : {\n",
    "          \"must\" : [\n",
    "            {\n",
    "              \"range\" : {\n",
    "                \"timestamp\" : {\n",
    "                  \"gt\" : dt[0],\n",
    "                  \"lte\": dt[1]\n",
    "                }\n",
    "              }\n",
    "            },\n",
    "            {\n",
    "              \"term\" : {\n",
    "                'src' : {\n",
    "                  \"value\" : src\n",
    "                }\n",
    "              }\n",
    "            },\n",
    "            {\n",
    "              \"term\" : {\n",
    "                'dest' : {\n",
    "                  \"value\" : dest\n",
    "                }\n",
    "              }\n",
    "            }\n",
    "          ]\n",
    "        }\n",
    "      }\n",
    "    }\n",
    "#     print(str(query).replace(\"\\'\", \"\\\"\"))\n",
    "    try:\n",
    "        return scan_gen(scan(hp.es,index=\"ps_trace\",query=query, _source=include, filter_path=['_scroll_id', '_shards', 'hits.hits._source']))\n",
    "    except Exception as e:\n",
    "        print(e)\n",
    "        \n",
    "        \n",
    "def getMeanLoss(dt, src, dest):\n",
    "    q = {\n",
    "          \"size\" : 0,\n",
    "          \"query\" : {  \n",
    "            \"bool\" : {\n",
    "              \"must\" : [\n",
    "                {\n",
    "                  \"range\" : {\n",
    "                    \"timestamp\" : {\n",
    "                      \"from\" : dt[0],\n",
    "                      \"to\" : dt[1]\n",
    "                    }\n",
    "                  }\n",
    "                },\n",
    "                {\n",
    "                  \"term\" : {\n",
    "                    \"src\" : src\n",
    "                  }\n",
    "                },\n",
    "                {\n",
    "                  \"term\" : {\n",
    "                    \"dest\" : dest\n",
    "                  }\n",
    "                }\n",
    "              ]\n",
    "            }\n",
    "          },\n",
    "          \"aggs\": {\n",
    "            \"packet_loss\": {\n",
    "              \"avg\": {\n",
    "                \"field\": \"packet_loss\"\n",
    "              }\n",
    "            }\n",
    "          }\n",
    "        }\n",
    "#     print(str(q).replace(\"\\'\", \"\\\"\"))\n",
    "    \n",
    "    data = hp.es.search(index='ps_packetloss', body=q, \n",
    "                _source=[ \"packet_loss\"])\n",
    "\n",
    "    return data['aggregations']['packet_loss']['value']\n",
    "\n",
    "    \n",
    "def ps_packetloss(dt, src, dest, include=[\"timestamp\",\"src\",\"dest\",\"packet_loss\"]):\n",
    "    query = {\n",
    "      \"query\" : {\n",
    "        \"bool\" : {\n",
    "          \"must\" : [\n",
    "            {\n",
    "              \"range\" : {\n",
    "                \"timestamp\" : {\n",
    "                  \"gt\" : dt[0],\n",
    "                  \"lte\": dt[1]\n",
    "                }\n",
    "              }\n",
    "            },\n",
    "            {\n",
    "              \"term\" : {\n",
    "                'src' : {\n",
    "                  \"value\" : src\n",
    "                }\n",
    "              }\n",
    "            },\n",
    "            {\n",
    "              \"term\" : {\n",
    "                'dest' : {\n",
    "                  \"value\" : dest\n",
    "                }\n",
    "              }\n",
    "            }\n",
    "          ]\n",
    "        }\n",
    "      }\n",
    "    }\n",
    "#     print(str(query).replace(\"\\'\", \"\\\"\"))\n",
    "    data = []\n",
    "    try:\n",
    "        gen = scan_gen(scan(hp.es,index=\"ps_packetloss\",query=query, _source=include, filter_path=['_scroll_id', '_shards', 'hits.hits._source']))\n",
    "        for meta in gen:\n",
    "            data.append(meta)\n",
    "            \n",
    "        df = pd.DataFrame(data)\n",
    "        if len(data)>0:\n",
    "            df['dt'] = pd.to_datetime(df['timestamp'], unit='ms')\n",
    "        return df\n",
    "            \n",
    "    except Exception as e:\n",
    "        print(e)\n",
    "\n",
    "        \n",
    "def ps_trace(es, dt, src, dest):\n",
    "    scan_gen = ps_trace_hashes(dt, src, dest)\n",
    "    data = []\n",
    "    hashes = {}\n",
    "    records = 0\n",
    "\n",
    "    for meta in scan_gen:\n",
    "        data.append(meta)\n",
    "#         print(meta)\n",
    "        if 'route-sha1' in data[records]:\n",
    "#         for doc in meta:\n",
    "            hashes[meta['route-sha1']] = meta['hops']\n",
    "        records += 1\n",
    "        if not records % 500000:\n",
    "            print(records)\n",
    "\n",
    "    df = pd.DataFrame(data)\n",
    "    if len(data)>0:\n",
    "        df['dt'] = pd.to_datetime(df['timestamp'], unit='ms')\n",
    "    return df\n",
    "\n",
    "try:\n",
    "    os.makedirs('/data/petya')\n",
    "    os.makedirs('/data/petya/parquet')\n",
    "except OSError as e:\n",
    "    pass\n",
    "\n",
    "startDate, endDate = '2021-05-02 07:00','2021-05-03 07:00'\n",
    "with open('/data/petya/period.pkl','wb') as outfile:\n",
    "    pickle.dump([startDate, endDate],outfile)\n",
    "\n",
    "dt = hp.GetTimeRanges(startDate, endDate)"
   ]
  },
  {
   "cell_type": "markdown",
   "metadata": {},
   "source": [
    " "
   ]
  },
  {
   "cell_type": "markdown",
   "metadata": {},
   "source": [
    "### Get all tested pairs"
   ]
  },
  {
   "cell_type": "code",
   "execution_count": 3,
   "metadata": {},
   "outputs": [
    {
     "name": "stdout",
     "output_type": "stream",
     "text": [
      "CPU times: user 20.3 ms, sys: 165 µs, total: 20.4 ms\n",
      "Wall time: 20.5 ms\n"
     ]
    }
   ],
   "source": [
    "pairs = qrs.queryAllTestedPairs(dt)\n",
    "%time pairsDf = pd.DataFrame(pairs)\n",
    "\n",
    "write2Parquet(pairsDf, '/data/petya/pairsDf')"
   ]
  },
  {
   "cell_type": "code",
   "execution_count": null,
   "metadata": {},
   "outputs": [],
   "source": []
  },
  {
   "cell_type": "markdown",
   "metadata": {},
   "source": [
    "\n",
    "\n",
    "\n",
    "\n"
   ]
  },
  {
   "cell_type": "markdown",
   "metadata": {},
   "source": [
    "### Get ps_trace data pair by pair and store all pairs in a list\n",
    "\n",
    "#### TODO: start a few threads for that to load"
   ]
  },
  {
   "cell_type": "code",
   "execution_count": 4,
   "metadata": {},
   "outputs": [
    {
     "name": "stdout",
     "output_type": "stream",
     "text": [
      "CPU times: user 23.5 s, sys: 2.24 s, total: 25.7 s\n",
      "Wall time: 7min 4s\n",
      "Number of src-dest pairs in ps_trace 2466\n"
     ]
    }
   ],
   "source": [
    "location = '/data/petya/parquet'\n",
    "tracedata = []\n",
    "def getTraceData():\n",
    "#     tracedata = []\n",
    "    i = 0\n",
    "    for src, dest in pairsDf[pairsDf['idx']=='ps_packetloss'][['src', 'dest']].values:\n",
    "        data = ps_trace(hp.es, dt, src, dest)\n",
    "        filename = f'{location}/{src}-{dest}.parquet'\n",
    "        if len(data)>0:\n",
    "#             tracedata.append({'src': src, 'dest': dest, 'data':data})\n",
    "            tracedata.append(data)\n",
    "#             write2Parquet(data, filename)\n",
    "        i+=1\n",
    "    return tracedata\n",
    "\n",
    "%time tracedata = getTraceData()\n",
    "\n",
    "\n",
    "print('Number of src-dest pairs in ps_trace',len(tracedata))"
   ]
  },
  {
   "cell_type": "markdown",
   "metadata": {},
   "source": [
    "### Calculate the packet loss between each two traceroute measures"
   ]
  },
  {
   "cell_type": "markdown",
   "metadata": {},
   "source": [
    "##### Version Parquet"
   ]
  },
  {
   "cell_type": "code",
   "execution_count": 5,
   "metadata": {},
   "outputs": [],
   "source": [
    "def splitUnknownPath(df):\n",
    "    split_rows = []\n",
    "    for idx, row in df[df['path_changed']==1].iterrows():\n",
    "        if row['timestamp_prev']>0:\n",
    "#             print(row, )\n",
    "            begin = row['timestamp']\n",
    "            end = row['timestamp_prev']\n",
    "            midpoint = int(begin + (end - begin) / 2)\n",
    "\n",
    "            # Add a flag that will tell that the measurement was split in two by timestamp. All other values remain the same\n",
    "            row['path_changed'] = 2\n",
    "            # Mark the row which was divided in two separate measures with 3, in order to be deleted later\n",
    "            df.loc[idx, 'path_changed'] = 3\n",
    "\n",
    "            # first interval\n",
    "            row['timestamp_prev'] = midpoint\n",
    "            split_rows.append(row)\n",
    "            # second interval\n",
    "            row['timestamp'] = midpoint\n",
    "            row['timestamp_prev'] = end\n",
    "\n",
    "            split_rows.append(row)\n",
    "\n",
    "    df = df.append(split_rows, ignore_index=True)\n",
    "    \n",
    "    # remove the original rows\n",
    "    df = df[df['path_changed']<3]\n",
    "    \n",
    "    return df\n",
    "\n",
    "\n",
    "def calculatePathLoss(trace_df):\n",
    "    src = trace_df['src'][0]\n",
    "    dest = trace_df['dest'][0]\n",
    "    logging.info(f'{src}  ->  {dest}  len: {len(trace_df)}')\n",
    "    trace_df = trace_df.sort_values('timestamp', ascending=True)\n",
    "    # get the previous row value\n",
    "    trace_df['timestamp_prev'] = trace_df.timestamp.shift(1,fill_value=0)\n",
    "    trace_df['route-sha1_prev'] = trace_df['route-sha1'].shift(1)\n",
    "    plossDf = ps_packetloss([trace_df['timestamp'].min(), trace_df['timestamp'].max()],src, dest)\n",
    "\n",
    "    def calcLoss(row):\n",
    "        loss = None\n",
    "        pathChanged = 1\n",
    "        if row['timestamp_prev']>0:\n",
    "            loss = plossDf[(plossDf['timestamp']<=row['timestamp']) & (plossDf['timestamp']>=row['timestamp_prev'])]['packet_loss'].mean()\n",
    "            if row['route-sha1'] == row['route-sha1_prev']:\n",
    "                pathChanged = 0\n",
    "\n",
    "        return pd.Series([loss, pathChanged])\n",
    "\n",
    "    # in some cases there are no packetloss measures for the min-max time in traceroute measures\n",
    "    if len(plossDf) > 0:\n",
    "        trace_df[['loss', 'path_changed']] = trace_df.apply(calcLoss, axis=1)\n",
    "\n",
    "        if len(trace_df[trace_df['path_changed']==1])>1:\n",
    "            trace_df = splitUnknownPath(trace_df)\n",
    "\n",
    "        filename = f\"/data/petya/parquet/{trace_df['src'].unique()[0]}-{trace_df['dest'].unique()[0]}.parquet\"\n",
    "\n",
    "        # write to a pickle file\n",
    "        if path.exists(filename):\n",
    "            if os.path.getsize(filename) > 0:          \n",
    "                ff = pq.read_pandas(filename).to_pandas()\n",
    "\n",
    "                if len(ff) != len(trace_df) or any(x not in ff.columns for x in ['loss', 'path_changed']):\n",
    "    #                     print('File not OK. Write!', len(ff), len(trace_df))\n",
    "                    trace_df = write2Parquet(trace_df, filename)\n",
    "            else: trace_df = write2Parquet(trace_df, filename)\n",
    "        else:\n",
    "            trace_df = write2Parquet(trace_df, filename)\n",
    "\n",
    "        return trace_df"
   ]
  },
  {
   "cell_type": "code",
   "execution_count": null,
   "metadata": {},
   "outputs": [],
   "source": []
  },
  {
   "cell_type": "code",
   "execution_count": null,
   "metadata": {},
   "outputs": [],
   "source": []
  },
  {
   "cell_type": "markdown",
   "metadata": {},
   "source": [
    "### Run the calculations in parallel"
   ]
  },
  {
   "cell_type": "code",
   "execution_count": 6,
   "metadata": {},
   "outputs": [
    {
     "name": "stdout",
     "output_type": "stream",
     "text": [
      "CPU times: user 9.81 s, sys: 2.37 s, total: 12.2 s\n",
      "Wall time: 5min 42s\n"
     ]
    }
   ],
   "source": [
    "import multiprocessing\n",
    "from concurrent.futures import ThreadPoolExecutor, ProcessPoolExecutor\n",
    "\n",
    "pairsWithNoPathsRemoved = []\n",
    "for i, df in enumerate(tracedata):\n",
    "    if 'route-sha1' in df.columns:\n",
    "        pairsWithNoPathsRemoved.append(df)\n",
    "# print(f'There are {len(tracedata)-len(pairsWithNoPathsRemoved)} pairs missing route-sha1 field')\n",
    "\n",
    "def addPacketLoss2Df():\n",
    "    with ProcessPoolExecutor(max_workers=4) as pool:\n",
    "        result = [res for res in pool.map(calculatePathLoss, pairsWithNoPathsRemoved) if res is not None]\n",
    "    return result\n",
    "\n",
    "\n",
    "%time tracedata = addPacketLoss2Df()"
   ]
  },
  {
   "cell_type": "markdown",
   "metadata": {},
   "source": [
    "## Merge all pairs into a Dask dataframe"
   ]
  },
  {
   "cell_type": "code",
   "execution_count": 7,
   "metadata": {},
   "outputs": [],
   "source": [
    "import dask\n",
    "import dask.dataframe as dd\n",
    "\n",
    "files = []\n",
    "for filename in os.listdir('/data/petya/parquet/'):\n",
    "    df = pd.read_parquet(f'/data/petya/parquet/{filename}')\n",
    "    # in some cases there are no packetloss measures for the min-max time in traceroute measures\n",
    "    if 'loss' in df.columns:\n",
    "        files.append(f'/data/petya/parquet/{filename}')\n",
    "    \n",
    "    \n",
    "mergedDf = dd.read_parquet(files, npartitions=4*4).compute()"
   ]
  },
  {
   "cell_type": "code",
   "execution_count": 8,
   "metadata": {},
   "outputs": [
    {
     "data": {
      "text/html": [
       "<div>\n",
       "<style scoped>\n",
       "    .dataframe tbody tr th:only-of-type {\n",
       "        vertical-align: middle;\n",
       "    }\n",
       "\n",
       "    .dataframe tbody tr th {\n",
       "        vertical-align: top;\n",
       "    }\n",
       "\n",
       "    .dataframe thead th {\n",
       "        text-align: right;\n",
       "    }\n",
       "</style>\n",
       "<table border=\"1\" class=\"dataframe\">\n",
       "  <thead>\n",
       "    <tr style=\"text-align: right;\">\n",
       "      <th></th>\n",
       "      <th>path_complete</th>\n",
       "      <th>destination_reached</th>\n",
       "      <th>src</th>\n",
       "      <th>looping</th>\n",
       "      <th>hops</th>\n",
       "      <th>dest</th>\n",
       "      <th>route-sha1</th>\n",
       "      <th>timestamp</th>\n",
       "      <th>dt</th>\n",
       "      <th>timestamp_prev</th>\n",
       "      <th>route-sha1_prev</th>\n",
       "      <th>loss</th>\n",
       "      <th>path_changed</th>\n",
       "    </tr>\n",
       "  </thead>\n",
       "  <tbody>\n",
       "    <tr>\n",
       "      <th>288</th>\n",
       "      <td>True</td>\n",
       "      <td>True</td>\n",
       "      <td>2620:6a:0:8420::45</td>\n",
       "      <td>False</td>\n",
       "      <td>[2620:6a:0:8420::6, 2620:6a:0:8422:131:225:15:...</td>\n",
       "      <td>2620:0:210:1::26</td>\n",
       "      <td>7421e47076894b16aab5d865f5c543ac113677a1</td>\n",
       "      <td>1620023360500</td>\n",
       "      <td>2021-05-03 06:33:21</td>\n",
       "      <td>1620023120000</td>\n",
       "      <td>d327dcb3a481c8e6ff00180115f27575603782cb</td>\n",
       "      <td>0.000469</td>\n",
       "      <td>2.0</td>\n",
       "    </tr>\n",
       "    <tr>\n",
       "      <th>289</th>\n",
       "      <td>True</td>\n",
       "      <td>True</td>\n",
       "      <td>2620:6a:0:8420::45</td>\n",
       "      <td>False</td>\n",
       "      <td>[2620:6a:0:8420::6, 2620:6a:0:8422:131:225:15:...</td>\n",
       "      <td>2620:0:210:1::26</td>\n",
       "      <td>89f44562c3061072359ac0b6fc591381058ea9ed</td>\n",
       "      <td>1620023950500</td>\n",
       "      <td>2021-05-03 06:45:00</td>\n",
       "      <td>1620023601000</td>\n",
       "      <td>7421e47076894b16aab5d865f5c543ac113677a1</td>\n",
       "      <td>0.000556</td>\n",
       "      <td>2.0</td>\n",
       "    </tr>\n",
       "    <tr>\n",
       "      <th>290</th>\n",
       "      <td>True</td>\n",
       "      <td>True</td>\n",
       "      <td>2620:6a:0:8420::45</td>\n",
       "      <td>False</td>\n",
       "      <td>[2620:6a:0:8420::6, 2620:6a:0:8422:131:225:15:...</td>\n",
       "      <td>2620:0:210:1::26</td>\n",
       "      <td>89f44562c3061072359ac0b6fc591381058ea9ed</td>\n",
       "      <td>1620023950500</td>\n",
       "      <td>2021-05-03 06:45:00</td>\n",
       "      <td>1620023601000</td>\n",
       "      <td>7421e47076894b16aab5d865f5c543ac113677a1</td>\n",
       "      <td>0.000556</td>\n",
       "      <td>2.0</td>\n",
       "    </tr>\n",
       "    <tr>\n",
       "      <th>291</th>\n",
       "      <td>True</td>\n",
       "      <td>True</td>\n",
       "      <td>2620:6a:0:8420::45</td>\n",
       "      <td>False</td>\n",
       "      <td>[2620:6a:0:8420::6, 2620:6a:0:8422:131:225:15:...</td>\n",
       "      <td>2620:0:210:1::26</td>\n",
       "      <td>7421e47076894b16aab5d865f5c543ac113677a1</td>\n",
       "      <td>1620024574500</td>\n",
       "      <td>2021-05-03 06:54:09</td>\n",
       "      <td>1620024300000</td>\n",
       "      <td>89f44562c3061072359ac0b6fc591381058ea9ed</td>\n",
       "      <td>0.000381</td>\n",
       "      <td>2.0</td>\n",
       "    </tr>\n",
       "    <tr>\n",
       "      <th>292</th>\n",
       "      <td>True</td>\n",
       "      <td>True</td>\n",
       "      <td>2620:6a:0:8420::45</td>\n",
       "      <td>False</td>\n",
       "      <td>[2620:6a:0:8420::6, 2620:6a:0:8422:131:225:15:...</td>\n",
       "      <td>2620:0:210:1::26</td>\n",
       "      <td>7421e47076894b16aab5d865f5c543ac113677a1</td>\n",
       "      <td>1620024574500</td>\n",
       "      <td>2021-05-03 06:54:09</td>\n",
       "      <td>1620024300000</td>\n",
       "      <td>89f44562c3061072359ac0b6fc591381058ea9ed</td>\n",
       "      <td>0.000381</td>\n",
       "      <td>2.0</td>\n",
       "    </tr>\n",
       "  </tbody>\n",
       "</table>\n",
       "</div>"
      ],
      "text/plain": [
       "    path_complete destination_reached                 src looping  \\\n",
       "288          True                True  2620:6a:0:8420::45   False   \n",
       "289          True                True  2620:6a:0:8420::45   False   \n",
       "290          True                True  2620:6a:0:8420::45   False   \n",
       "291          True                True  2620:6a:0:8420::45   False   \n",
       "292          True                True  2620:6a:0:8420::45   False   \n",
       "\n",
       "                                                  hops              dest  \\\n",
       "288  [2620:6a:0:8420::6, 2620:6a:0:8422:131:225:15:...  2620:0:210:1::26   \n",
       "289  [2620:6a:0:8420::6, 2620:6a:0:8422:131:225:15:...  2620:0:210:1::26   \n",
       "290  [2620:6a:0:8420::6, 2620:6a:0:8422:131:225:15:...  2620:0:210:1::26   \n",
       "291  [2620:6a:0:8420::6, 2620:6a:0:8422:131:225:15:...  2620:0:210:1::26   \n",
       "292  [2620:6a:0:8420::6, 2620:6a:0:8422:131:225:15:...  2620:0:210:1::26   \n",
       "\n",
       "                                   route-sha1      timestamp  \\\n",
       "288  7421e47076894b16aab5d865f5c543ac113677a1  1620023360500   \n",
       "289  89f44562c3061072359ac0b6fc591381058ea9ed  1620023950500   \n",
       "290  89f44562c3061072359ac0b6fc591381058ea9ed  1620023950500   \n",
       "291  7421e47076894b16aab5d865f5c543ac113677a1  1620024574500   \n",
       "292  7421e47076894b16aab5d865f5c543ac113677a1  1620024574500   \n",
       "\n",
       "                     dt  timestamp_prev  \\\n",
       "288 2021-05-03 06:33:21   1620023120000   \n",
       "289 2021-05-03 06:45:00   1620023601000   \n",
       "290 2021-05-03 06:45:00   1620023601000   \n",
       "291 2021-05-03 06:54:09   1620024300000   \n",
       "292 2021-05-03 06:54:09   1620024300000   \n",
       "\n",
       "                              route-sha1_prev      loss  path_changed  \n",
       "288  d327dcb3a481c8e6ff00180115f27575603782cb  0.000469           2.0  \n",
       "289  7421e47076894b16aab5d865f5c543ac113677a1  0.000556           2.0  \n",
       "290  7421e47076894b16aab5d865f5c543ac113677a1  0.000556           2.0  \n",
       "291  89f44562c3061072359ac0b6fc591381058ea9ed  0.000381           2.0  \n",
       "292  89f44562c3061072359ac0b6fc591381058ea9ed  0.000381           2.0  "
      ]
     },
     "execution_count": 8,
     "metadata": {},
     "output_type": "execute_result"
    }
   ],
   "source": [
    "mergedDf.tail()"
   ]
  },
  {
   "cell_type": "markdown",
   "metadata": {},
   "source": [
    "### Build a dictionarry of hashes and their set of IP addresses"
   ]
  },
  {
   "cell_type": "code",
   "execution_count": 9,
   "metadata": {},
   "outputs": [
    {
     "name": "stdout",
     "output_type": "stream",
     "text": [
      "Number of unique paths: 45461\n",
      "CPU times: user 1.32 s, sys: 953 ms, total: 2.27 s\n",
      "Wall time: 12 s\n"
     ]
    }
   ],
   "source": [
    "import os\n",
    "import pickle\n",
    "manager = Manager() \n",
    "hashDict = manager.dict()\n",
    "\n",
    "def getHashes2IPlist(filename):\n",
    "    df = pd.read_parquet(f'/data/petya/parquet/{filename}')\n",
    "    \n",
    "    for path in df['route-sha1'].unique().tolist():\n",
    "        hops = df[df['route-sha1']==path]['hops'].to_list()\n",
    "        if len(hops)>0:\n",
    "            hashDict[path] = hops[0].tolist()\n",
    "\n",
    "\n",
    "def run():\n",
    "    files = os.listdir('/data/petya/parquet/')\n",
    "    with ProcessPoolExecutor(max_workers=4) as pool:\n",
    "        pool.map(getHashes2IPlist, files)\n",
    "\n",
    "    print(f'Number of unique paths: {len(hashDict)}')\n",
    "    saveData(hashDict, 'hashDict')\n",
    "    return dict(hashDict)\n",
    "\n",
    "%time hashDict = run()"
   ]
  },
  {
   "cell_type": "markdown",
   "metadata": {},
   "source": [
    "### Get only the good paths, loop and extract the hops"
   ]
  },
  {
   "cell_type": "code",
   "execution_count": 10,
   "metadata": {},
   "outputs": [],
   "source": [
    "# badPathsRemoved = mergedDf[(mergedDf['looping']==False)&(mergedDf['path_complete']==True)]\n",
    "# aggmerged = badPathsRemoved.groupby(['route-sha1', 'src', 'dest']).agg({'loss': 'mean'}).reset_index()\n",
    "\n",
    "\n",
    "paths = mergedDf.groupby(['route-sha1', 'src', 'dest']).agg({'loss': 'mean'}).reset_index()\n",
    "logging.info(f'Number of paths {len(paths)}')\n",
    "hopsList = []\n",
    "\n",
    "def f(row):\n",
    "    path = row['route-sha1']\n",
    "    hops = hashDict[path]\n",
    "    if len(hops)>0:\n",
    "#         hops = None\n",
    "\n",
    "        # add source to the list of hops to mark the first hop\n",
    "        if row['src'] != hops[0]:\n",
    "            hops.insert(0, row['src'])\n",
    "\n",
    "        for i, ip in enumerate(hops):\n",
    "            if i < len(hops)-1:\n",
    "                # do not add looping values \n",
    "                if hops[i] != hops[i+1]:\n",
    "                    hopsList.append({'src': row['src'], 'dest': row['dest'], 'hash': row['route-sha1'],\n",
    "                                     'pos': i, 'hop': (hops[i], hops[i+1]), 'path_mean': row['loss']\n",
    "                                    })\n",
    "    if row.name%5000 == 0:\n",
    "        logging.info(f'Reached {row.name}')\n",
    "\n",
    "\n",
    "# get information about the hops\n",
    "paths.apply(f, axis=1)\n",
    "hopsDf = pd.DataFrame.from_dict(hopsList, orient='columns')\n",
    "hopsDf[['start', 'end']] = pd.DataFrame(hopsDf['hop'].tolist(), index=hopsDf.index)\n",
    "\n",
    "saveData(hopsDf, 'hopsDf')"
   ]
  },
  {
   "cell_type": "code",
   "execution_count": 11,
   "metadata": {},
   "outputs": [
    {
     "data": {
      "text/html": [
       "<div>\n",
       "<style scoped>\n",
       "    .dataframe tbody tr th:only-of-type {\n",
       "        vertical-align: middle;\n",
       "    }\n",
       "\n",
       "    .dataframe tbody tr th {\n",
       "        vertical-align: top;\n",
       "    }\n",
       "\n",
       "    .dataframe thead th {\n",
       "        text-align: right;\n",
       "    }\n",
       "</style>\n",
       "<table border=\"1\" class=\"dataframe\">\n",
       "  <thead>\n",
       "    <tr style=\"text-align: right;\">\n",
       "      <th></th>\n",
       "      <th>src</th>\n",
       "      <th>dest</th>\n",
       "      <th>hash</th>\n",
       "      <th>pos</th>\n",
       "      <th>hop</th>\n",
       "      <th>path_mean</th>\n",
       "      <th>start</th>\n",
       "      <th>end</th>\n",
       "    </tr>\n",
       "  </thead>\n",
       "  <tbody>\n",
       "    <tr>\n",
       "      <th>0</th>\n",
       "      <td>138.253.60.82</td>\n",
       "      <td>206.12.127.30</td>\n",
       "      <td>0000e19bc0f3226fb052e9d4f3a96d758ec68b1b</td>\n",
       "      <td>0</td>\n",
       "      <td>(138.253.60.82, 138.253.60.2)</td>\n",
       "      <td>0.0</td>\n",
       "      <td>138.253.60.82</td>\n",
       "      <td>138.253.60.2</td>\n",
       "    </tr>\n",
       "    <tr>\n",
       "      <th>1</th>\n",
       "      <td>138.253.60.82</td>\n",
       "      <td>206.12.127.30</td>\n",
       "      <td>0000e19bc0f3226fb052e9d4f3a96d758ec68b1b</td>\n",
       "      <td>1</td>\n",
       "      <td>(138.253.60.2, 138.253.1.17)</td>\n",
       "      <td>0.0</td>\n",
       "      <td>138.253.60.2</td>\n",
       "      <td>138.253.1.17</td>\n",
       "    </tr>\n",
       "    <tr>\n",
       "      <th>2</th>\n",
       "      <td>138.253.60.82</td>\n",
       "      <td>206.12.127.30</td>\n",
       "      <td>0000e19bc0f3226fb052e9d4f3a96d758ec68b1b</td>\n",
       "      <td>2</td>\n",
       "      <td>(138.253.1.17, 146.97.169.141)</td>\n",
       "      <td>0.0</td>\n",
       "      <td>138.253.1.17</td>\n",
       "      <td>146.97.169.141</td>\n",
       "    </tr>\n",
       "    <tr>\n",
       "      <th>3</th>\n",
       "      <td>138.253.60.82</td>\n",
       "      <td>206.12.127.30</td>\n",
       "      <td>0000e19bc0f3226fb052e9d4f3a96d758ec68b1b</td>\n",
       "      <td>3</td>\n",
       "      <td>(146.97.169.141, 146.97.78.49)</td>\n",
       "      <td>0.0</td>\n",
       "      <td>146.97.169.141</td>\n",
       "      <td>146.97.78.49</td>\n",
       "    </tr>\n",
       "    <tr>\n",
       "      <th>4</th>\n",
       "      <td>138.253.60.82</td>\n",
       "      <td>206.12.127.30</td>\n",
       "      <td>0000e19bc0f3226fb052e9d4f3a96d758ec68b1b</td>\n",
       "      <td>4</td>\n",
       "      <td>(146.97.78.49, 146.97.38.45)</td>\n",
       "      <td>0.0</td>\n",
       "      <td>146.97.78.49</td>\n",
       "      <td>146.97.38.45</td>\n",
       "    </tr>\n",
       "  </tbody>\n",
       "</table>\n",
       "</div>"
      ],
      "text/plain": [
       "             src           dest                                      hash  \\\n",
       "0  138.253.60.82  206.12.127.30  0000e19bc0f3226fb052e9d4f3a96d758ec68b1b   \n",
       "1  138.253.60.82  206.12.127.30  0000e19bc0f3226fb052e9d4f3a96d758ec68b1b   \n",
       "2  138.253.60.82  206.12.127.30  0000e19bc0f3226fb052e9d4f3a96d758ec68b1b   \n",
       "3  138.253.60.82  206.12.127.30  0000e19bc0f3226fb052e9d4f3a96d758ec68b1b   \n",
       "4  138.253.60.82  206.12.127.30  0000e19bc0f3226fb052e9d4f3a96d758ec68b1b   \n",
       "\n",
       "   pos                             hop  path_mean           start  \\\n",
       "0    0   (138.253.60.82, 138.253.60.2)        0.0   138.253.60.82   \n",
       "1    1    (138.253.60.2, 138.253.1.17)        0.0    138.253.60.2   \n",
       "2    2  (138.253.1.17, 146.97.169.141)        0.0    138.253.1.17   \n",
       "3    3  (146.97.169.141, 146.97.78.49)        0.0  146.97.169.141   \n",
       "4    4    (146.97.78.49, 146.97.38.45)        0.0    146.97.78.49   \n",
       "\n",
       "              end  \n",
       "0    138.253.60.2  \n",
       "1    138.253.1.17  \n",
       "2  146.97.169.141  \n",
       "3    146.97.78.49  \n",
       "4    146.97.38.45  "
      ]
     },
     "execution_count": 11,
     "metadata": {},
     "output_type": "execute_result"
    }
   ],
   "source": [
    "hopsDf.head()"
   ]
  },
  {
   "cell_type": "markdown",
   "metadata": {},
   "source": [
    "### Get mean, median, mode for each hop and assign an id "
   ]
  },
  {
   "cell_type": "code",
   "execution_count": 17,
   "metadata": {},
   "outputs": [
    {
     "name": "stdout",
     "output_type": "stream",
     "text": [
      "Number of hops:  8164\n",
      "Done\n",
      "CPU times: user 4.76 s, sys: 1.42 s, total: 6.18 s\n",
      "Wall time: 2min 28s\n"
     ]
    }
   ],
   "source": [
    "import concurrent.futures\n",
    "import math\n",
    "\n",
    "# assign an id to each hop\n",
    "hopsId = {x: i for i, x in enumerate(hopsDf['hop'].unique())}\n",
    "\n",
    "def getStats(hop):\n",
    "    hashList =  hopsDf[(hopsDf['hop']==hop)]['hash'].to_list()\n",
    "    loss = mergedDf[mergedDf['route-sha1'].isin(hashList)]['loss']\n",
    "\n",
    "    mean, median, mode = None, None, None\n",
    "    if loss.isnull().values.all()==False:\n",
    "        mean = loss.mean()\n",
    "        median = loss.median()\n",
    "        mode = loss.mode()[0]\n",
    "\n",
    "    if hopsId[hop]%1000 == 0:\n",
    "        logging.info(f'Passed:, {hopsId[hop]}')\n",
    "        \n",
    "    return {\n",
    "        'hop_id': hopsId[hop],\n",
    "        'hop': hop,\n",
    "        'mean': mean,\n",
    "        'median': median,\n",
    "        'mode': mode\n",
    "    }\n",
    "\n",
    "\n",
    "def multi_processing():\n",
    "    items = []\n",
    "    uhops = hopsDf['hop'].unique()\n",
    "    print('Number of hops: ',len(uhops))\n",
    "    with  concurrent.futures.ProcessPoolExecutor(max_workers=4) as p:\n",
    "        processing = p.map(getStats, uhops)\n",
    "    print('Done')\n",
    "    for data in processing:\n",
    "        items.append(data)\n",
    "        \n",
    "    return items\n",
    "\n",
    "%time hopStats = multi_processing()\n",
    "\n",
    "hopStatsDf = pd.DataFrame(hopStats)\n",
    "saveData(hopStatsDf, 'hopStatsDf')"
   ]
  },
  {
   "cell_type": "code",
   "execution_count": null,
   "metadata": {},
   "outputs": [],
   "source": []
  },
  {
   "cell_type": "markdown",
   "metadata": {},
   "source": [
    "### Get the number of unique paths for each hop"
   ]
  },
  {
   "cell_type": "code",
   "execution_count": 13,
   "metadata": {},
   "outputs": [],
   "source": [
    "numHashesDf = hopsDf.groupby(['hop']).agg({'hash': 'count'})\n",
    "numHashesDf.rename(columns={'hash':'num_hashes'}, inplace=True)\n",
    "relDf = pd.merge(hopStatsDf, numHashesDf, on='hop')\n",
    "relDf.sort_values('mean', ascending=False)\n",
    "\n",
    "saveData(relDf, 'relDf')"
   ]
  },
  {
   "cell_type": "code",
   "execution_count": null,
   "metadata": {},
   "outputs": [],
   "source": []
  },
  {
   "cell_type": "code",
   "execution_count": null,
   "metadata": {},
   "outputs": [],
   "source": []
  },
  {
   "cell_type": "markdown",
   "metadata": {},
   "source": [
    "### Plot path mean loss to unique paths relationship"
   ]
  },
  {
   "cell_type": "code",
   "execution_count": 14,
   "metadata": {},
   "outputs": [
    {
     "data": {
      "text/plain": [
       "<AxesSubplot:xlabel='mean', ylabel='num_hashes'>"
      ]
     },
     "execution_count": 14,
     "metadata": {},
     "output_type": "execute_result"
    },
    {
     "data": {
      "image/png": "[encoded data removed]",
      "text/plain": [
       "<Figure size 1080x576 with 1 Axes>"
      ]
     },
     "metadata": {
      "needs_background": "light"
     },
     "output_type": "display_data"
    }
   ],
   "source": [
    "relDf.plot.scatter( x=\"mean\", y=\"num_hashes\", rot=0, color=\"b\", figsize=(15,8))"
   ]
  },
  {
   "cell_type": "markdown",
   "metadata": {},
   "source": [
    "### Check the distribution of number of unique hashes"
   ]
  },
  {
   "cell_type": "code",
   "execution_count": 15,
   "metadata": {},
   "outputs": [
    {
     "data": {
      "image/png": "[encoded data removed]",
      "text/plain": [
       "<Figure size 1080x576 with 1 Axes>"
      ]
     },
     "metadata": {
      "needs_background": "light"
     },
     "output_type": "display_data"
    }
   ],
   "source": [
    "out = pd.cut(relDf['num_hashes'], bins=[0, 5, 10, 25, 50, 100, 500, 1000, 5000, 10000], include_lowest=True)\n",
    "ax3 = out.value_counts(sort=False).plot.bar(rot=0, color=\"y\", figsize=(15,8))\n",
    "for p in ax3.patches:\n",
    "    ax3.annotate(format(p.get_height(), '.0f'), \n",
    "                   (p.get_x() + p.get_width() / 2., p.get_height()), \n",
    "                   ha = 'center', va = 'center', \n",
    "                   xytext = (0, 9), \n",
    "                   textcoords = 'offset points')"
   ]
  },
  {
   "cell_type": "code",
   "execution_count": null,
   "metadata": {},
   "outputs": [],
   "source": []
  }
 ],
 "metadata": {
  "kernelspec": {
   "display_name": "Python 3",
   "language": "python",
   "name": "python3"
  },
  "language_info": {
   "codemirror_mode": {
    "name": "ipython",
    "version": 3
   },
   "file_extension": ".py",
   "mimetype": "text/x-python",
   "name": "python",
   "nbconvert_exporter": "python",
   "pygments_lexer": "ipython3",
   "version": "3.8.5"
  }
 },
 "nbformat": 4,
 "nbformat_minor": 4
}
